{
 "cells": [
  {
   "cell_type": "markdown",
   "metadata": {},
   "source": [
    "# Exercise 4.2\n",
    "\n",
    "Every day, you visit the JCR, Library Cafe, College Cafe and all the other taste imperial outlets, and count how many Chicken and Bacon baguettes they have on sale; how many Ham and Cheese baguettes there are; and how many Carrot and Hommous baguettes there are. You record the numbers in a nice table:\n",
    "\n",
    "|Day\\Baguette  | C&B  | H&C | C&H |\n",
    "|:-------------|:-----|:----|:----|\n",
    "|Monday        | 32   | 35  | 38  |\n",
    "|Tuesday       | 20   | 18  | 30  |\n",
    "|Wednesday     | 27   | 29  | 8   |\n",
    "|Thursday      | 16   | 19  | 10  |\n",
    "|Friday        | 22   | 27  | 20  |\n",
    "\n",
    "You have procured all this information because you read somewhere that, supposedly, 20 of each type are being added by Taste Imperial each day and that approximately 20 of each are eaten each day. You realise the ideal distribution should be:\n",
    "\n",
    "|Day\\Baguette  | C&B  | H&C | C&H |\n",
    "|:-------------|:-----|:----|:----|\n",
    "|Monday        | 20   | 20  | 20  |\n",
    "|Tuesday       | 20   | 20  | 20  |\n",
    "|Wednesday     | 20   | 20  | 20  |\n",
    "|Thursday      | 20   | 20  | 20  |\n",
    "|Friday        | 20   | 20  | 20  |\n",
    "\n",
    "Perform a chi-squared test and see if reality matches the statistic that you read about.\n",
    "\n",
    "(Note: All the above numbers have been invented and may not be anywhere close to the actual values)\n"
   ]
  },
  {
   "cell_type": "code",
   "execution_count": 13,
   "metadata": {},
   "outputs": [
    {
     "name": "stdout",
     "output_type": "stream",
     "text": [
      "Dataset: \n",
      " [[32 35 38]\n",
      " [20 18 30]\n",
      " [27 29  8]\n",
      " [16 19 10]\n",
      " [22 27 20]]\n",
      "Number of Sandwiches are atypical.\n"
     ]
    }
   ],
   "source": [
    "import numpy as np\n",
    "from scipy import stats\n",
    "\n",
    "# This solution is broadly similar to the previous question so lets use\n",
    "# that answer as a base to answer this one.\n",
    "def sandwiches_atypical(Obs):\n",
    "    # Observations \n",
    "    total = np.sum(Obs)\n",
    "    #print(total)\n",
    "\n",
    "    # Typical distribution of marks.\n",
    "    typical = np.ones_like(Obs)*20\n",
    "    # Here I make an array of the same shape and size as Exp\n",
    "    # that consists entirely of ones (a useful numpy function)\n",
    "    # and multiply it by 20, to get an array with the expected values\n",
    "    \n",
    "    total_exp = np.sum(typical)\n",
    "    #print(total_exp)\n",
    "    \n",
    "    # Expected number of sandwiches\n",
    "    Exp = total*typical/300.0\n",
    "    \n",
    "    #print(Exp)\n",
    "\n",
    "    # Check assumptions for the use of this test.\n",
    "    greater_than_5 = np.size(Exp[Exp>5])\n",
    "    # We need the total number of elements in the array that are greater than 5\n",
    "    # We can find this using a neat property of numpy arrays. You can make\n",
    "    # a new array of elements that fulfill a conditional statement when applied\n",
    "    # to the old array. e.g. y = x[x==0] y will be an array of all the elements in\n",
    "    # x that are equal to 0. If there are 2, y will be size 2; 0, y will be size 0\n",
    "    # etc. This feature is extremely useful when manipulating arrays and DOES NOT\n",
    "    # work with lists! Only numpy arrays!\n",
    "    \n",
    "    \n",
    "    # Check at least 20% are greater than 5.\n",
    "    assert greater_than_5 > 0.2*Exp.size\n",
    "\n",
    "   \n",
    "    s_statistic, p_value = stats.chisquare(Obs, Exp, axis = None)\n",
    "    # By adding axis = None the test is applied to the whole array and not column by column\n",
    "    #print(p_value)\n",
    "    if p_value < 0.05:\n",
    "        return True # ie the distributions are not the same\n",
    "    else:\n",
    "        return False\n",
    "\n",
    "\n",
    "Obs = np.array([[32,35,38],\n",
    "               [20,18,30],\n",
    "               [27,29,8],\n",
    "               [16,19,10],\n",
    "               [22,27,20]])\n",
    "print (\"Dataset: \\n {}\".format(Obs))\n",
    "# '\\n' means 'new line' when printing a string\n",
    "if sandwiches_atypical(Obs):\n",
    "    print (\"Number of Sandwiches are atypical.\")\n",
    "else:\n",
    "    print (\"Number of Sandwiches are typical.\")\n"
   ]
  },
  {
   "cell_type": "code",
   "execution_count": null,
   "metadata": {},
   "outputs": [],
   "source": []
  }
 ],
 "metadata": {
  "kernelspec": {
   "display_name": "Python 3.6",
   "language": "python",
   "name": "python36"
  },
  "language_info": {
   "codemirror_mode": {
    "name": "ipython",
    "version": 3
   },
   "file_extension": ".py",
   "mimetype": "text/x-python",
   "name": "python",
   "nbconvert_exporter": "python",
   "pygments_lexer": "ipython3",
   "version": "3.6.3"
  }
 },
 "nbformat": 4,
 "nbformat_minor": 1
}
