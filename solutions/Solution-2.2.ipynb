{
 "cells": [
  {
   "cell_type": "markdown",
   "metadata": {},
   "source": [
    "Practical 6b\n",
    "============\n",
    "\n",
    "**For the first_year_marks.csv dataset, calculate r and p values using both Pearson’s and Spearman’s correlation methodologies.**"
   ]
  },
  {
   "cell_type": "code",
   "execution_count": 2,
   "metadata": {},
   "outputs": [
    {
     "name": "stdout",
     "output_type": "stream",
     "text": [
      "Populating the interactive namespace from numpy and matplotlib\n",
      "('field_mark', 'overall_year')\n"
     ]
    }
   ],
   "source": [
    "%pylab inline\n",
    "\n",
    "import numpy as np\n",
    "\n",
    "# Read in the records.\n",
    "record = np.recfromcsv(\"../data/first_year_marks.csv\") \n",
    "\n",
    "print record.dtype.names"
   ]
  },
  {
   "cell_type": "code",
   "execution_count": 10,
   "metadata": {},
   "outputs": [
    {
     "name": "stdout",
     "output_type": "stream",
     "text": [
      "Pearson's r and p values:  0.269354, 0.0144025\n",
      "Spearman's r and p values:  0.18995, 0.087402\n"
     ]
    }
   ],
   "source": [
    "field_mark = np.array(record[\"field_mark\"], dtype=float)\n",
    "overall_year = np.array(record[\"overall_year\"], dtype=float)\n",
    "\n",
    "from scipy import stats\n",
    "print \"Pearson's r and p values:  %g, %g\"%stats.pearsonr(field_mark, overall_year)\n",
    "print \"Spearman's r and p values:  %g, %g\"%stats.spearmanr(field_mark, overall_year)"
   ]
  },
  {
   "cell_type": "markdown",
   "metadata": {},
   "source": [
    "**Are these data correlated at all? If so is the correlation weak or strong?**\n",
    " \n",
    "The Pearson's correlaction suggests a very weak correlation, while the Spearman's correlaction suggests no correlation. Considering that we already know from the lecture that the marks do not follow a normal distribution (indeed this is something we are going to show next), we should conclude that we should use the Spearman's correlation.\n",
    "\n",
    "Therefore, using Spearman's correlation coefficient we can conclude that there is no correlation. However, given the relatively high p value we would have to conlude there was not sufficient evidence to call it. More details in the next lecture."
   ]
  },
  {
   "cell_type": "markdown",
   "metadata": {},
   "source": [
    "**Plot histograms of each of the two variables, and overlay normal curves to the histograms – how well do they match?**"
   ]
  },
  {
   "cell_type": "code",
   "execution_count": 1,
   "metadata": {},
   "outputs": [
    {
     "ename": "NameError",
     "evalue": "name 'pylab' is not defined",
     "output_type": "error",
     "traceback": [
      "\u001b[0;31m\u001b[0m",
      "\u001b[0;31mNameError\u001b[0mTraceback (most recent call last)",
      "\u001b[0;32m<ipython-input-1-ce32a36e4462>\u001b[0m in \u001b[0;36m<module>\u001b[0;34m()\u001b[0m\n\u001b[0;32m----> 1\u001b[0;31m \u001b[0mn\u001b[0m\u001b[0;34m,\u001b[0m \u001b[0mbins\u001b[0m\u001b[0;34m,\u001b[0m \u001b[0mpatches\u001b[0m \u001b[0;34m=\u001b[0m \u001b[0mpylab\u001b[0m\u001b[0;34m.\u001b[0m\u001b[0mhist\u001b[0m\u001b[0;34m(\u001b[0m\u001b[0mfield_mark\u001b[0m\u001b[0;34m,\u001b[0m \u001b[0mnormed\u001b[0m\u001b[0;34m=\u001b[0m\u001b[0;36m1\u001b[0m\u001b[0;34m)\u001b[0m\u001b[0;34m\u001b[0m\u001b[0m\n\u001b[0m\u001b[1;32m      2\u001b[0m \u001b[0;34m\u001b[0m\u001b[0m\n\u001b[1;32m      3\u001b[0m \u001b[0;31m# Add a 'best fit' line\u001b[0m\u001b[0;34m\u001b[0m\u001b[0;34m\u001b[0m\u001b[0m\n\u001b[1;32m      4\u001b[0m \u001b[0msigma\u001b[0m \u001b[0;34m=\u001b[0m \u001b[0mnp\u001b[0m\u001b[0;34m.\u001b[0m\u001b[0mstd\u001b[0m\u001b[0;34m(\u001b[0m\u001b[0mfield_mark\u001b[0m\u001b[0;34m)\u001b[0m\u001b[0;34m\u001b[0m\u001b[0m\n\u001b[1;32m      5\u001b[0m \u001b[0mmu\u001b[0m \u001b[0;34m=\u001b[0m \u001b[0mnp\u001b[0m\u001b[0;34m.\u001b[0m\u001b[0mmean\u001b[0m\u001b[0;34m(\u001b[0m\u001b[0mfield_mark\u001b[0m\u001b[0;34m)\u001b[0m\u001b[0;34m\u001b[0m\u001b[0m\n",
      "\u001b[0;31mNameError\u001b[0m: name 'pylab' is not defined"
     ]
    }
   ],
   "source": [
    "n, bins, patches = pylab.hist(field_mark, normed=1)\n",
    "\n",
    "# Add a 'best fit' line\n",
    "sigma = np.std(field_mark)\n",
    "mu = np.mean(field_mark)\n",
    "\n",
    "y = pylab.normpdf(bins, mu, sigma)\n",
    "l = pylab.plot(bins, y, 'r--', linewidth=1)\n",
    "\n",
    "pylab.xlabel(\"Final percentage mark\")\n",
    "pylab.ylabel(\"Proportion of students achieving mark\")\n",
    "\n",
    "pylab.show()"
   ]
  },
  {
   "cell_type": "code",
   "execution_count": 37,
   "metadata": {},
   "outputs": [
    {
     "data": {
      "image/png": "[encoded data removed]",
      "text/plain": [
       "<matplotlib.figure.Figure at 0x108f49fd0>"
      ]
     },
     "metadata": {},
     "output_type": "display_data"
    }
   ],
   "source": [
    "n, bins, patches = pylab.hist(overall_year, normed=1)\n",
    "\n",
    "# Add a 'best fit' line\n",
    "sigma = np.std(overall_year)\n",
    "mu = np.mean(overall_year)\n",
    "\n",
    "y = pylab.normpdf(bins, mu, sigma)\n",
    "l = pylab.plot(bins, y, 'r--', linewidth=1)\n",
    "\n",
    "pylab.xlabel(\"Final percentage mark\")\n",
    "pylab.ylabel(\"Proportion of students achieving mark\")\n",
    "\n",
    "pylab.show()"
   ]
  },
  {
   "cell_type": "code",
   "execution_count": null,
   "metadata": {},
   "outputs": [],
   "source": []
  }
 ],
 "metadata": {
  "kernelspec": {
   "display_name": "Python 2",
   "language": "python",
   "name": "python2"
  },
  "language_info": {
   "codemirror_mode": {
    "name": "ipython",
    "version": 2
   },
   "file_extension": ".py",
   "mimetype": "text/x-python",
   "name": "python",
   "nbconvert_exporter": "python",
   "pygments_lexer": "ipython2",
   "version": "2.7.14"
  }
 },
 "nbformat": 4,
 "nbformat_minor": 1
}
