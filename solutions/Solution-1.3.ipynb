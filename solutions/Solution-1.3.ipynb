{
 "cells": [
  {
   "cell_type": "markdown",
   "metadata": {},
   "source": [
    "# Exercise 5.3\n",
    "\n",
    "Now that you have made a bar chart and a histogram, let's try making another simple statistical plot.\n",
    "A pie chart! As you are aware, pie charts are a simple way of showing the relative sizes of data in a\n",
    "given set. Pie charts are easy to make in matplotlib, and only require one function. Most functions in matplotlib use similar, if not identical, arguments to do certain things, like 'color' in the bar chart example. This can be used to decipher which arguments a function might take!\n",
    "\n",
    "Although there are no examples of pie charts in this page, it is relatively simple and can be found in the matplotlib docs [here](http://matplotlib.org/api/pyplot_api.html). The function is matplotlib.pylot.pie(...)\n",
    "\n",
    "Use the data below and:\n",
    "\n",
    "1. Make a pie chart\n",
    "2. Make the pie chart circular and not an ellipse\n",
    "3. Make the pie chart use the correct colours for the joke to work\n",
    "4. Rotate the chart such that the joke is clear\n",
    "5. Add labels to each section, such that anyone will get it\n",
    "6. Add a title as the icing on the cake\n",
    "\n",
    "**BONUS**\n",
    "7. 'explode' the small wedge, and give it shadow.\n",
    "\n",
    "**HINT**\n",
    "\n",
    "Start simple, and build up. REMEMBER: The online docs will give the function with ALL \n",
    "its possible arguments. However only those without an equals sign (e.g. plt.xxx(X,label=...)) are mandatory (X in this case). Those with an equals sign (label) are not required for the function to work, but allow for more\n",
    "customisation should you wish it.\n",
    "\n",
    "Most of the tricks you will use here are applicable on other plots and figures throughout this course, do not forget them as they can make your life easier later."
   ]
  },
  {
   "cell_type": "code",
   "execution_count": 3,
   "metadata": {},
   "outputs": [
    {
     "data": {
      "image/png": "[encoded data removed]",
      "text/plain": [
       "<matplotlib.figure.Figure at 0x10c8079d0>"
      ]
     },
     "metadata": {},
     "output_type": "display_data"
    }
   ],
   "source": [
    "import matplotlib.pyplot as plt\n",
    "import numpy as np\n",
    "%matplotlib inline\n",
    "\n",
    "# This is your data to plot\n",
    "data = np.array([['Pacman','not Pacman'],[270, 90]])\n",
    "\n",
    "CATEGORIES = data[0]\n",
    "SIZES      = data[1]\n",
    "# Separate the data into two arrays, one of the sizes and one of the categories\n",
    "# I use capitals to distinguish them from the function's argument labels\n",
    "COLORS     = ['y','w']\n",
    "# 'COLORS' is the list of colours we provide and 'colors' is the argument in the\n",
    "# function. Our colours here are yellow 'y' and white 'w'.\n",
    "EXPLODE    = (0,0.1)\n",
    "# Part of the bonus answer, EXPLODE is a tuple with each element denoting how\n",
    "# 'Exploded' the corresponding segment will be.\n",
    "\n",
    "plt.figure()\n",
    "# Start the figure. This is not strictly necessary in ipython notebooks, but is\n",
    "# a good habit to adopt as it is useful when differentiating between multiple\n",
    "# figures in the same code.\n",
    "plt.pie(SIZES, labels = CATEGORIES, colors = COLORS, startangle = 45, \n",
    "                explode = EXPLODE, shadow = True)\n",
    "# Pie chart function, fist argument contains the values and is the only \n",
    "# mandatory one. All the rest have defaults. Set the labels to be our\n",
    "# CATEGORIES, colors to be our COLORS, the startangle to be 45 degrees\n",
    "# anti-clockwise, explode to be the EXPLODE tuple and shadow to True.\n",
    "\n",
    "plt.title('Fraction of a pie chart that looks like Pacman')\n",
    "# Add a title explaining the plot\n",
    "plt.axes().set_aspect('equal')\n",
    "# Make the aspect ratio equal. I pinched this line of code from the \n",
    "# aspect ratio demo script in the matplotlib docs.\n",
    "\n",
    "plt.show()\n",
    "# Show the plot. Again, this is not strictly necessary in ipython notebook\n",
    "# but is a good practice to get into.\n"
   ]
  },
  {
   "cell_type": "code",
   "execution_count": null,
   "metadata": {
    "collapsed": true
   },
   "outputs": [],
   "source": []
  }
 ],
 "metadata": {
  "celltoolbar": "Raw Cell Format",
  "kernelspec": {
   "display_name": "Python 2",
   "language": "python",
   "name": "python2"
  },
  "language_info": {
   "codemirror_mode": {
    "name": "ipython",
    "version": 2
   },
   "file_extension": ".py",
   "mimetype": "text/x-python",
   "name": "python",
   "nbconvert_exporter": "python",
   "pygments_lexer": "ipython2",
   "version": "2.7.14"
  }
 },
 "nbformat": 4,
 "nbformat_minor": 1
}
