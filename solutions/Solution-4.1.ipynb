{
 "cells": [
  {
   "cell_type": "markdown",
   "metadata": {},
   "source": [
    "# Exercise 4.1 Chi-squared Test\n",
    "\n",
    "## Determine whether marks classifications for a course are atypical\n",
    "\n",
    "Analysis of 2000 overall course marks from ESESIS shows that the typical marks breakdown is as follows:\n",
    "\n",
    "Fail: 4.3%\t3rd: 9.5%\t2ii: 18.4%\t2i: 38.4%\t1st: 29.4%\n",
    "\n",
    "Now consider the following distribution of results from two different groups of students:\n",
    "\n",
    "|Grade  | Students - group 1| Students - group 2|\n",
    "|:------|:------------------|:------------------|\n",
    "|Failed | 3                 | 0                 |\n",
    "|3rd    | 10                | 8                 |\n",
    "|2ii    | 23                | 7                 |\n",
    "|2i     | 30                |25                 |\n",
    "|1st    | 20                |39                 |\n",
    "\n",
    "**Consider each group in turn - are their results atypical?**"
   ]
  },
  {
   "cell_type": "code",
   "execution_count": 5,
   "metadata": {},
   "outputs": [
    {
     "name": "stdout",
     "output_type": "stream",
     "text": [
      "Dataset:  [ 3 10 23 30 20]\n",
      "Marks are typical.\n",
      "Dataset:  [ 0  8  7 25 39]\n",
      "Marks are atypical.\n"
     ]
    }
   ],
   "source": [
    "import numpy as np\n",
    "\n",
    "# As we want to do this twice, lets write a function.\n",
    "def marks_atypical(Obs):\n",
    "    # Observations \n",
    "    total = np.sum(Obs)\n",
    "\n",
    "    # Typical distribution of marks.\n",
    "    typical = np.array([4.3, 9.5, 18.4, 38.4, 29.4])\n",
    "\n",
    "    # Expected marks\n",
    "    Exp = total*typical/100.0\n",
    "\n",
    "    # Check assumptions for the use of this test.\n",
    "    greater_than_5 = 0\n",
    "    for val in Exp:\n",
    "        # Check all values are greater than 1.\n",
    "        assert val > 1\n",
    "        if val >= 5:\n",
    "            greater_than_5 += 1\n",
    "    # Check at least 20% are greater than 5.\n",
    "    assert greater_than_5 > 0.2*Exp.size\n",
    "\n",
    "    from scipy import stats\n",
    "    s_statistic, p_value = stats.chisquare(Obs,Exp)\n",
    "    \n",
    "    if p_value < 0.05:\n",
    "        return True # ie the distributions are not the same\n",
    "    else:\n",
    "        return False\n",
    "\n",
    "Obs = np.array([3, 10, 23, 30, 20])\n",
    "print (\"Dataset: \", Obs)\n",
    "if marks_atypical(Obs):\n",
    "    print (\"Marks are atypical.\")\n",
    "else:\n",
    "    print (\"Marks are typical.\")\n",
    "\n",
    "Obs = np.array([0, 8, 7, 25, 39])\n",
    "print (\"Dataset: \", Obs)\n",
    "if marks_atypical(Obs):\n",
    "    print (\"Marks are atypical.\")\n",
    "else:\n",
    "    print (\"Marks are typical.\")\n",
    "\n"
   ]
  }
 ],
 "metadata": {
  "kernelspec": {
   "display_name": "Python 3.6",
   "language": "python",
   "name": "python36"
  },
  "language_info": {
   "codemirror_mode": {
    "name": "ipython",
    "version": 3
   },
   "file_extension": ".py",
   "mimetype": "text/x-python",
   "name": "python",
   "nbconvert_exporter": "python",
   "pygments_lexer": "ipython3",
   "version": "3.6.3"
  }
 },
 "nbformat": 4,
 "nbformat_minor": 1
}
