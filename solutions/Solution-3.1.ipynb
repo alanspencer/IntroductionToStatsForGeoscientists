{
 "cells": [
  {
   "cell_type": "markdown",
   "metadata": {},
   "source": [
    "Practical 3.1: Hypothesis Testing\n",
    "===============================\n",
    "\n",
    "**Question 1.** I have two sets of trilobite fossils from different localities. I think they are from the same species but want some quantitative confirmation – on the basis of their mean length:width ratio (triloshape1.csv, triloshape2.csv) is there evidence that they are different?"
   ]
  },
  {
   "cell_type": "code",
   "execution_count": 2,
   "metadata": {},
   "outputs": [
    {
     "name": "stdout",
     "output_type": "stream",
     "text": [
      "Populating the interactive namespace from numpy and matplotlib\n",
      "('082',)\n",
      "('116',)\n"
     ]
    }
   ],
   "source": [
    "%pylab inline\n",
    "\n",
    "# Read in data\n",
    "import numpy as np\n",
    "\n",
    "# Read in the records.\n",
    "record1 = np.recfromcsv(\"../data/triloshape1.csv\") \n",
    "record2 = np.recfromcsv(\"../data/triloshape2.csv\") \n",
    "\n",
    "print (record1.dtype.names)\n",
    "print (record2.dtype.names)"
   ]
  },
  {
   "cell_type": "markdown",
   "metadata": {},
   "source": [
    "Well that's annoying! We were given a csv file with no header so recfromcsv has read the first line of data as the header. This underscores the importantance of always inspecting your data."
   ]
  },
  {
   "cell_type": "code",
   "execution_count": 3,
   "metadata": {},
   "outputs": [],
   "source": [
    "# Read in the records - take II.\n",
    "record1 = np.recfromtxt(\"../data/triloshape1.csv\") \n",
    "record2 = np.recfromtxt(\"../data/triloshape2.csv\") \n",
    "\n",
    "triloshape1 = np.array(record1, dtype=float)\n",
    "triloshape2 = np.array(record2, dtype=float)"
   ]
  },
  {
   "cell_type": "code",
   "execution_count": 4,
   "metadata": {},
   "outputs": [
    {
     "data": {
      "image/png": "[encoded data removed]",
      "text/plain": [
       "<matplotlib.figure.Figure at 0x7fde6647f198>"
      ]
     },
     "metadata": {},
     "output_type": "display_data"
    }
   ],
   "source": [
    "# Plot distribution - triloshape1\n",
    "n, bins, patches = pylab.hist(triloshape1, 10, normed=1)\n",
    "\n",
    "# Add a 'best fit' line\n",
    "sigma = np.std(triloshape1)\n",
    "mu = np.mean(triloshape1)\n",
    "\n",
    "y = pylab.normpdf(bins, mu, sigma)\n",
    "l = pylab.plot(bins, y, 'r--', linewidth=1)\n",
    "\n",
    "pylab.xlabel(\"Samples\")\n",
    "pylab.ylabel(\"Mean length:width ratio\")\n",
    "\n",
    "pylab.show()\n"
   ]
  },
  {
   "cell_type": "code",
   "execution_count": 5,
   "metadata": {},
   "outputs": [
    {
     "data": {
      "image/png": "[encoded data removed]",
      "text/plain": [
       "<matplotlib.figure.Figure at 0x7fde64b6f588>"
      ]
     },
     "metadata": {},
     "output_type": "display_data"
    }
   ],
   "source": [
    "# Plot distribution - triloshape2\n",
    "n, bins, patches = pylab.hist(triloshape2, 10, normed=1)\n",
    "\n",
    "# Add a 'best fit' line\n",
    "sigma = np.std(triloshape2)\n",
    "mu = np.mean(triloshape2)\n",
    "\n",
    "y = pylab.normpdf(bins, mu, sigma)\n",
    "l = pylab.plot(bins, y, 'r--', linewidth=1)\n",
    "\n",
    "pylab.xlabel(\"Samples\")\n",
    "pylab.ylabel(\"Mean length:width ratio\")\n",
    "\n",
    "pylab.show()"
   ]
  },
  {
   "cell_type": "code",
   "execution_count": 6,
   "metadata": {},
   "outputs": [
    {
     "name": "stdout",
     "output_type": "stream",
     "text": [
      "p-values =  0.5253419681562425 0.5432794516844254\n",
      "Accept the hypothesis that the sample comes from a normal distribution.\n"
     ]
    }
   ],
   "source": [
    "# The plots don't look convincing. However, it is always better to use a quantative test.\n",
    "# Use the D’Agostino & Pearson test to test the null hypothesis that a samples come from\n",
    "# a normal distribution.\n",
    "from scipy import stats\n",
    "\n",
    "k2_1, p_1 = stats.normaltest(triloshape1)\n",
    "k2_2, p_2 = stats.normaltest(triloshape2)\n",
    "\n",
    "print (\"p-values = \", p_1, p_2)\n",
    "if p_1 <= 0.05 or p_2 <= 0.05:\n",
    "    print (\"Reject the hypothesis that the sample comes from a normal distribution.\")\n",
    "else:\n",
    "    print (\"Accept the hypothesis that the sample comes from a normal distribution.\")"
   ]
  },
  {
   "cell_type": "markdown",
   "metadata": {},
   "source": [
    "Now that we are confident that the two distributions come from a normal distribution we are confident that we should use the *T-test* to compare these datasets. This is a two-sided test for the null hypothesis that 2 independent samples have identical average (expected) values."
   ]
  },
  {
   "cell_type": "code",
   "execution_count": 7,
   "metadata": {},
   "outputs": [
    {
     "name": "stdout",
     "output_type": "stream",
     "text": [
      "T-test - (t, p) = -2.09157, 0.0380368\n",
      "Reject the hypothesis that the populations are the same.\n"
     ]
    }
   ],
   "source": [
    "t, p = stats.ttest_ind(triloshape1, triloshape2)\n",
    "\n",
    "print (\"T-test - (t, p) = %g, %g\"%(t, p))\n",
    "if p<=0.05:\n",
    "    print (\"Reject the hypothesis that the populations are the same.\"),\n",
    "else:\n",
    "    print (\"Accept the hypothesis that the populations are the same.\")\n",
    "\n"
   ]
  },
  {
   "cell_type": "markdown",
   "metadata": {},
   "source": [
    "**Question 2**. I have measured mica percentages in samples of igneous rocks from two different localities (micapercent1.csv, micapercent2.csv). The mean mica percentage is lower in the second locality and I have a geological theory that may explain this, but I first need to rule out the possibility that the lower mica content is just due to chance."
   ]
  },
  {
   "cell_type": "code",
   "execution_count": 8,
   "metadata": {},
   "outputs": [
    {
     "name": "stdout",
     "output_type": "stream",
     "text": [
      "('89',)\n",
      "('62',)\n"
     ]
    }
   ],
   "source": [
    "# Read in data\n",
    "import numpy as np\n",
    "\n",
    "# Read in the records.\n",
    "record1 = np.recfromcsv(\"../data/micapercent1.csv\") \n",
    "record2 = np.recfromcsv(\"../data/micapercent2.csv\") \n",
    "\n",
    "print (record1.dtype.names)\n",
    "print (record2.dtype.names)"
   ]
  },
  {
   "cell_type": "markdown",
   "metadata": {},
   "source": [
    "As in the first question we were given a csv file with no header so recfromcsv has read the first line of data as the header. Always check your data!"
   ]
  },
  {
   "cell_type": "code",
   "execution_count": 9,
   "metadata": {},
   "outputs": [],
   "source": [
    "# Read in the records - take II.\n",
    "record1 = np.recfromtxt(\"../data/micapercent1.csv\") \n",
    "record2 = np.recfromtxt(\"../data/micapercent2.csv\") \n",
    "\n",
    "micapercent1 = np.array(record1, dtype=float)\n",
    "micapercent2 = np.array(record2, dtype=float)"
   ]
  },
  {
   "cell_type": "code",
   "execution_count": 10,
   "metadata": {},
   "outputs": [
    {
     "data": {
      "image/png": "[encoded data removed]",
      "text/plain": [
       "<matplotlib.figure.Figure at 0x7fde63713550>"
      ]
     },
     "metadata": {},
     "output_type": "display_data"
    }
   ],
   "source": [
    "# Plot distribution - micapercent1\n",
    "n, bins, patches = pylab.hist(micapercent1, 10, normed=1)\n",
    "\n",
    "# Add a 'best fit' line\n",
    "sigma = np.std(micapercent1)\n",
    "mu = np.mean(micapercent1)\n",
    "\n",
    "y = pylab.normpdf(bins, mu, sigma)\n",
    "l = pylab.plot(bins, y, 'r--', linewidth=1)\n",
    "\n",
    "pylab.xlabel(\"Samples\")\n",
    "pylab.ylabel(\"Mean length:width ratio\")\n",
    "\n",
    "pylab.show()"
   ]
  },
  {
   "cell_type": "code",
   "execution_count": 11,
   "metadata": {},
   "outputs": [
    {
     "data": {
      "image/png": "[encoded data removed]",
      "text/plain": [
       "<matplotlib.figure.Figure at 0x7fde636ffe10>"
      ]
     },
     "metadata": {},
     "output_type": "display_data"
    }
   ],
   "source": [
    "# Plot distribution - micapercent2\n",
    "n, bins, patches = pylab.hist(micapercent2, 10, normed=1)\n",
    "\n",
    "# Add a 'best fit' line\n",
    "sigma = np.std(micapercent2)\n",
    "mu = np.mean(micapercent2)\n",
    "\n",
    "y = pylab.normpdf(bins, mu, sigma)\n",
    "l = pylab.plot(bins, y, 'r--', linewidth=1)\n",
    "\n",
    "pylab.xlabel(\"Samples\")\n",
    "pylab.ylabel(\"Mean length:width ratio\")\n",
    "\n",
    "pylab.show()"
   ]
  },
  {
   "cell_type": "code",
   "execution_count": 12,
   "metadata": {},
   "outputs": [
    {
     "name": "stdout",
     "output_type": "stream",
     "text": [
      "p-values =  3.19642639296486e-05 0.36414825539139845\n",
      "Reject the hypothesis that the sample comes from a normal distribution.\n"
     ]
    }
   ],
   "source": [
    "# Looking at the first of these two plots it would appear unlikely that the sample comes\n",
    "# from a normal distribution. However, it is always better to use a quantative test.\n",
    "# Use the D’Agostino & Pearson test to test the null hypothesis that a samples come from\n",
    "# a normal distribution.\n",
    "from scipy import stats\n",
    "\n",
    "k2_1, p_1 = stats.normaltest(micapercent1)\n",
    "k2_2, p_2 = stats.normaltest(micapercent2)\n",
    "\n",
    "print (\"p-values = \", p_1, p_2)\n",
    "if p_1 <= 0.05 or p_2 <= 0.05:\n",
    "    print (\"Reject the hypothesis that the sample comes from a normal distribution.\")\n",
    "else:\n",
    "    print (\"Accept the hypothesis that the sample comes from a normal distribution.\")"
   ]
  },
  {
   "cell_type": "code",
   "execution_count": 14,
   "metadata": {},
   "outputs": [
    {
     "name": "stdout",
     "output_type": "stream",
     "text": [
      "Mann-Whitney rank test one-tailed p-value =  0.021983043515195907  and u value =  512.5\n",
      "Reject the hypothesis that the populations are the same.\n"
     ]
    }
   ],
   "source": [
    "u, p = stats.mannwhitneyu(micapercent1, micapercent2)\n",
    "\n",
    "# This is a one-tailed test.\n",
    "\n",
    "print (\"Mann-Whitney rank test one-tailed p-value = \", p, \" and u value = \", u)\n",
    "if p<=0.05:\n",
    "    print (\"Reject the hypothesis that the populations are the same.\")\n",
    "else:\n",
    "    print (\"Accept the hypothesis that the populations are the same.\")\n",
    "\n"
   ]
  },
  {
   "cell_type": "markdown",
   "metadata": {},
   "source": [
    "Therefore, the differences in the two samples really is significant and not by chance."
   ]
  }
 ],
 "metadata": {
  "kernelspec": {
   "display_name": "Python 3.6",
   "language": "python",
   "name": "python36"
  },
  "language_info": {
   "codemirror_mode": {
    "name": "ipython",
    "version": 3
   },
   "file_extension": ".py",
   "mimetype": "text/x-python",
   "name": "python",
   "nbconvert_exporter": "python",
   "pygments_lexer": "ipython3",
   "version": "3.6.3"
  }
 },
 "nbformat": 4,
 "nbformat_minor": 1
}
