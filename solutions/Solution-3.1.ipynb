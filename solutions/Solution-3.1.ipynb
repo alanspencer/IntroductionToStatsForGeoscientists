{
 "metadata": {
  "name": "",
  "signature": "sha256:047d211f678e38d604bcb48c6d87c8332178d4fd617c02db97378b8ffecf42a1"
 },
 "nbformat": 3,
 "nbformat_minor": 0,
 "worksheets": [
  {
   "cells": [
    {
     "cell_type": "markdown",
     "metadata": {},
     "source": [
      "Practical 7: Hypothesis Testing\n",
      "===============================\n",
      "\n",
      "**Question 1.** I have two sets of trilobite fossils from different localities. I think they are from the same species but want some quantitative confirmation \u2013 on the basis of their mean length:width ratio (triloshape1.csv, triloshape2.csv) is there evidence that they are different?"
     ]
    },
    {
     "cell_type": "code",
     "collapsed": false,
     "input": [
      "%pylab inline\n",
      "\n",
      "# Read in data\n",
      "import numpy as np\n",
      "\n",
      "# Read in the records.\n",
      "record1 = np.recfromcsv(\"../data/triloshape1.csv\") \n",
      "record2 = np.recfromcsv(\"../data/triloshape2.csv\") \n",
      "\n",
      "print record1.dtype.names\n",
      "print record2.dtype.names"
     ],
     "language": "python",
     "metadata": {},
     "outputs": [
      {
       "output_type": "stream",
       "stream": "stdout",
       "text": [
        "Populating the interactive namespace from numpy and matplotlib\n",
        "('082',)\n",
        "('116',)\n"
       ]
      }
     ],
     "prompt_number": 2
    },
    {
     "cell_type": "markdown",
     "metadata": {},
     "source": [
      "Well that's annoying! We were given a csv file with no header so recfromcsv has read the first line of data as the header. This underscores the importantance of always inspecting your data."
     ]
    },
    {
     "cell_type": "code",
     "collapsed": false,
     "input": [
      "# Read in the records - take II.\n",
      "record1 = np.recfromtxt(\"../data/triloshape1.csv\") \n",
      "record2 = np.recfromtxt(\"../data/triloshape2.csv\") \n",
      "\n",
      "triloshape1 = np.array(record1, dtype=float)\n",
      "triloshape2 = np.array(record2, dtype=float)"
     ],
     "language": "python",
     "metadata": {},
     "outputs": [],
     "prompt_number": 6
    },
    {
     "cell_type": "code",
     "collapsed": false,
     "input": [
      "# Plot distribution - triloshape1\n",
      "n, bins, patches = pylab.hist(triloshape1, 10, normed=1)\n",
      "\n",
      "# Add a 'best fit' line\n",
      "sigma = np.std(triloshape1)\n",
      "mu = np.mean(triloshape1)\n",
      "\n",
      "y = pylab.normpdf(bins, mu, sigma)\n",
      "l = pylab.plot(bins, y, 'r--', linewidth=1)\n",
      "\n",
      "pylab.xlabel(\"Samples\")\n",
      "pylab.ylabel(\"Mean length:width ratio\")\n",
      "\n",
      "pylab.show()\n"
     ],
     "language": "python",
     "metadata": {},
     "outputs": [
      {
       "metadata": {},
       "output_type": "display_data",
       "png": "[encoded data removed]",
       "text": [
        "<matplotlib.figure.Figure at 0x10bd82f90>"
       ]
      }
     ],
     "prompt_number": 53
    },
    {
     "cell_type": "code",
     "collapsed": false,
     "input": [
      "# Plot distribution - triloshape2\n",
      "n, bins, patches = pylab.hist(triloshape2, 10, normed=1)\n",
      "\n",
      "# Add a 'best fit' line\n",
      "sigma = np.std(triloshape2)\n",
      "mu = np.mean(triloshape2)\n",
      "\n",
      "y = pylab.normpdf(bins, mu, sigma)\n",
      "l = pylab.plot(bins, y, 'r--', linewidth=1)\n",
      "\n",
      "pylab.xlabel(\"Samples\")\n",
      "pylab.ylabel(\"Mean length:width ratio\")\n",
      "\n",
      "pylab.show()"
     ],
     "language": "python",
     "metadata": {},
     "outputs": [
      {
       "metadata": {},
       "output_type": "display_data",
       "png": "[encoded data removed]",
       "text": [
        "<matplotlib.figure.Figure at 0x10bb4d050>"
       ]
      }
     ],
     "prompt_number": 52
    },
    {
     "cell_type": "code",
     "collapsed": false,
     "input": [
      "# The plots don't look convincing. However, it is always better to use a quantative test.\n",
      "# Use the D\u2019Agostino & Pearson test to test the null hypothesis that a samples come from\n",
      "# a normal distribution.\n",
      "from scipy import stats\n",
      "\n",
      "k2_1, p_1 = stats.normaltest(triloshape1)\n",
      "k2_2, p_2 = stats.normaltest(triloshape2)\n",
      "\n",
      "print \"p-values = \", p_1, p_2\n",
      "if p_1 <= 0.05 or p_2 <= 0.05:\n",
      "    print \"Reject\",\n",
      "else:\n",
      "    print \"Accept\",\n",
      "print \"the hypothesis that the sample comes from a normal distribution.\""
     ],
     "language": "python",
     "metadata": {},
     "outputs": [
      {
       "output_type": "stream",
       "stream": "stdout",
       "text": [
        "p-values =  0.525341968156 0.543279451684\n",
        "Accept the hypothesis that the sample comes from a normal distribution.\n"
       ]
      }
     ],
     "prompt_number": 77
    },
    {
     "cell_type": "markdown",
     "metadata": {},
     "source": [
      "Now that we are confident that the two distributions come from a normal distribution we are confident that we should use the *T-test* to compare these datasets. This is a two-sided test for the null hypothesis that 2 independent samples have identical average (expected) values."
     ]
    },
    {
     "cell_type": "code",
     "collapsed": false,
     "input": [
      "t, p = stats.ttest_ind(triloshape1, triloshape2)\n",
      "\n",
      "print \"T-test - (t, p) = %g, %g\"%(t, p)\n",
      "if p<=0.05:\n",
      "    print \"Reject\",\n",
      "else:\n",
      "    print \"Accept\"\n",
      "print \"the hypothesis that the populations are the same.\"\n"
     ],
     "language": "python",
     "metadata": {},
     "outputs": [
      {
       "output_type": "stream",
       "stream": "stdout",
       "text": [
        "T-test - (t, p) = -2.09157, 0.0380368\n",
        "Reject the hypothesis that the populations are the same.\n"
       ]
      }
     ],
     "prompt_number": 64
    },
    {
     "cell_type": "markdown",
     "metadata": {},
     "source": [
      "**Question 2**. I have measured mica percentages in samples of igneous rocks from two different localities (micapercent1.csv, micapercent2.csv). The mean mica percentage is lower in the second locality and I have a geological theory that may explain this, but I first need to rule out the possibility that the lower mica content is just due to chance."
     ]
    },
    {
     "cell_type": "code",
     "collapsed": false,
     "input": [
      "# Read in data\n",
      "import numpy as np\n",
      "\n",
      "# Read in the records.\n",
      "record1 = np.recfromcsv(\"../data/micapercent1.csv\") \n",
      "record2 = np.recfromcsv(\"../data/micapercent2.csv\") \n",
      "\n",
      "print record1.dtype.names\n",
      "print record2.dtype.names"
     ],
     "language": "python",
     "metadata": {},
     "outputs": [
      {
       "output_type": "stream",
       "stream": "stdout",
       "text": [
        "('89',)\n",
        "('62',)\n"
       ]
      }
     ],
     "prompt_number": 65
    },
    {
     "cell_type": "markdown",
     "metadata": {},
     "source": [
      "As in the first question we were given a csv file with no header so recfromcsv has read the first line of data as the header. Always check your data!"
     ]
    },
    {
     "cell_type": "code",
     "collapsed": false,
     "input": [
      "# Read in the records - take II.\n",
      "record1 = np.recfromtxt(\"../data/micapercent1.csv\") \n",
      "record2 = np.recfromtxt(\"../data/micapercent2.csv\") \n",
      "\n",
      "micapercent1 = np.array(record1, dtype=float)\n",
      "micapercent2 = np.array(record2, dtype=float)"
     ],
     "language": "python",
     "metadata": {},
     "outputs": [],
     "prompt_number": 66
    },
    {
     "cell_type": "code",
     "collapsed": false,
     "input": [
      "# Plot distribution - micapercent1\n",
      "n, bins, patches = pylab.hist(micapercent1, 10, normed=1)\n",
      "\n",
      "# Add a 'best fit' line\n",
      "sigma = np.std(micapercent1)\n",
      "mu = np.mean(micapercent1)\n",
      "\n",
      "y = pylab.normpdf(bins, mu, sigma)\n",
      "l = pylab.plot(bins, y, 'r--', linewidth=1)\n",
      "\n",
      "pylab.xlabel(\"Samples\")\n",
      "pylab.ylabel(\"Mean length:width ratio\")\n",
      "\n",
      "pylab.show()"
     ],
     "language": "python",
     "metadata": {},
     "outputs": [
      {
       "metadata": {},
       "output_type": "display_data",
       "png": "[encoded data removed]",
       "text": [
        "<matplotlib.figure.Figure at 0x10be56690>"
       ]
      }
     ],
     "prompt_number": 67
    },
    {
     "cell_type": "code",
     "collapsed": false,
     "input": [
      "# Plot distribution - micapercent2\n",
      "n, bins, patches = pylab.hist(micapercent2, 10, normed=1)\n",
      "\n",
      "# Add a 'best fit' line\n",
      "sigma = np.std(micapercent2)\n",
      "mu = np.mean(micapercent2)\n",
      "\n",
      "y = pylab.normpdf(bins, mu, sigma)\n",
      "l = pylab.plot(bins, y, 'r--', linewidth=1)\n",
      "\n",
      "pylab.xlabel(\"Samples\")\n",
      "pylab.ylabel(\"Mean length:width ratio\")\n",
      "\n",
      "pylab.show()"
     ],
     "language": "python",
     "metadata": {},
     "outputs": [
      {
       "metadata": {},
       "output_type": "display_data",
       "png": "[encoded data removed]",
       "text": [
        "<matplotlib.figure.Figure at 0x10bd423d0>"
       ]
      }
     ],
     "prompt_number": 68
    },
    {
     "cell_type": "code",
     "collapsed": false,
     "input": [
      "# Looking at the first of these two plots it would appear unlikely that the sample comes\n",
      "# from a normal distribution. However, it is always better to use a quantative test.\n",
      "# Use the D\u2019Agostino & Pearson test to test the null hypothesis that a samples come from\n",
      "# a normal distribution.\n",
      "from scipy import stats\n",
      "\n",
      "k2_1, p_1 = stats.normaltest(micapercent1)\n",
      "k2_2, p_2 = stats.normaltest(micapercent2)\n",
      "\n",
      "print \"p-values = \", p_1, p_2\n",
      "if p_1 <= 0.05 or p_2 <= 0.05:\n",
      "    print \"Reject\",\n",
      "else:\n",
      "    print \"Accept\",\n",
      "print \"the hypothesis that the sample comes from a normal distribution.\""
     ],
     "language": "python",
     "metadata": {},
     "outputs": [
      {
       "output_type": "stream",
       "stream": "stdout",
       "text": [
        "p-values =  3.19642639296e-05 0.364148255391\n",
        "Reject the hypothesis that the sample comes from a normal distribution.\n"
       ]
      }
     ],
     "prompt_number": 76
    },
    {
     "cell_type": "code",
     "collapsed": false,
     "input": [
      "u, p = stats.mannwhitneyu(micapercent1, micapercent2)\n",
      "\n",
      "# This is a one-tailed test. We want to consider both tails therefore we multiply the p value by 2.\n",
      "p = p*2\n",
      "\n",
      "print \"Mann-Whitney rank test two-tailed p-value = \", p, \" and u value = \", u\n",
      "if p<=0.05:\n",
      "    print \"Reject\",\n",
      "else:\n",
      "    print \"Accept\"\n",
      "print \"the hypothesis that the populations are the same.\"\n",
      "\n"
     ],
     "language": "python",
     "metadata": {},
     "outputs": [
      {
       "output_type": "stream",
       "stream": "stdout",
       "text": [
        "Mann-Whitney rank test two-tailed p-value =  0.0439660870304  and u value =  512.5\n",
        "Reject the hypothesis that the populations are the same.\n"
       ]
      }
     ],
     "prompt_number": 81
    },
    {
     "cell_type": "markdown",
     "metadata": {},
     "source": [
      "Therefore, the differences in the two samples really is significant and not by chance."
     ]
    }
   ],
   "metadata": {}
  }
 ]
}