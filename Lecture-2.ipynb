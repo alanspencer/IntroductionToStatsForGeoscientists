{
 "cells": [
  {
   "cell_type": "markdown",
   "metadata": {},
   "source": [
    "# Introduction to statistics for Geoscientists (with Python)\n",
    "### Lecturer: Dr Alan R.T. Spencer | [alan.spencer@imperial.ac.uk](mailto:alan.spencer@imperial.ac.uk)\n",
    "### Lecture 2: Bivariant statistics and scatter-plots\n",
    "### URL: [https://github.com/alanspencer/IntroductionToStatsForGeoscientists](https://github.com/alanspencer/IntroductionToStatsForGeoscientists)"
   ]
  },
  {
   "cell_type": "markdown",
   "metadata": {},
   "source": [
    "So far have looked at univariate statistics, i.e. one variable forming one distribution. **Bivariate statistics** look at two variables, e.g.:\n",
    "\n",
    "* Total Organic Carbon (TOC) of rock sample AND fossil diversity.\n",
    "\n",
    "The idea is to look for relationship between variables, e.g.:\n",
    "\n",
    "* Is the fossil diversity lower when the TOC is higher?\n",
    "\n",
    "If we can show there is a relationship, then we can start to look for possible causes. To study bivariate problems visually we use scatter plots."
   ]
  },
  {
   "cell_type": "markdown",
   "metadata": {},
   "source": [
    "## Scatter plot example: Does Dorset fieldwork marks predict overall year performance?\n",
    "\n",
    "Here we are going to create a scatter plot of two variables (you will need to use the data file [/data/first_year_marks.csv](https://raw.githubusercontent.com/alanspencer/IntroductionToStatsForGeoscientists/master/data/first_year_marks.csv))."
   ]
  },
  {
   "cell_type": "code",
   "execution_count": 10,
   "metadata": {},
   "outputs": [
    {
     "name": "stdout",
     "output_type": "stream",
     "text": [
      "Field Mark,Overall Year\r\n",
      "50,56.5\r\n",
      "75,71\r\n",
      "70,75\r\n",
      "60,66.8\r\n",
      "65,55.5\r\n",
      "75,68.5\r\n",
      "55,58.8\r\n",
      "60,80.5\r\n",
      "65,82.5\r\n",
      "75,71.8\r\n",
      "75,55.5\r\n",
      "65,71\r\n",
      "65,66.5\r\n",
      "65,74.3\r\n",
      "50,55.3\r\n",
      "65,58.3\r\n",
      "70,66.5\r\n",
      "45,70\r\n",
      "70,63\r\n",
      "55,75\r\n",
      "55,71.8\r\n",
      "40,58.5\r\n",
      "65,68.5\r\n",
      "70,72.3\r\n",
      "80,68\r\n",
      "70,72.3\r\n",
      "70,64.5\r\n",
      "70,54.3\r\n",
      "65,75.3\r\n",
      "55,61\r\n",
      "80,76\r\n",
      "75,66.8\r\n",
      "50,62.8\r\n",
      "65,73.5\r\n",
      "65,75.8\r\n",
      "65,68.5\r\n",
      "60,69.3\r\n",
      "65,59.5\r\n",
      "60,57.3\r\n",
      "65,64\r\n",
      "65,67.5\r\n",
      "65,71.8\r\n",
      "70,75.8\r\n",
      "65,57.3\r\n",
      "70,69.5\r\n",
      "80,69.3\r\n",
      "55,74\r\n",
      "75,61.3\r\n",
      "55,65.3\r\n",
      "60,71.5\r\n",
      "70,89.8\r\n",
      "65,61.5\r\n",
      "65,67.5\r\n",
      "60,76\r\n",
      "55,75.3\r\n",
      "60,63.8\r\n",
      "80,72.5\r\n",
      "55,73.3\r\n",
      "70,72\r\n",
      "60,63.3\r\n",
      "75,74.8\r\n",
      "60,66.3\r\n",
      "70,59\r\n",
      "60,74.5\r\n",
      "65,80\r\n",
      "65,69.8\r\n",
      "85,62.5\r\n",
      "80,66\r\n",
      "70,67.5\r\n",
      "75,82.8\r\n",
      "70,71\r\n",
      "75,77.5\r\n",
      "65,64\r\n",
      "60,73.3\r\n",
      "50,62.5\r\n",
      "85,75.3\r\n",
      "70,67.8\r\n",
      "70,73.8\r\n",
      "70,61\r\n",
      "65,70.8\r\n",
      "70,69.8\r\n",
      "30,53.8\r\n"
     ]
    }
   ],
   "source": [
    "%matplotlib inline\n",
    "\n",
    "%cat ./data/first_year_marks.csv"
   ]
  },
  {
   "cell_type": "code",
   "execution_count": 11,
   "metadata": {},
   "outputs": [
    {
     "name": "stdout",
     "output_type": "stream",
     "text": [
      "('field_mark', 'overall_year')\n"
     ]
    }
   ],
   "source": [
    "import numpy as np\n",
    "\n",
    "# Read in the records (remember from previous lecture - do not re-invent the wheel).\n",
    "record = np.recfromcsv(\"./data/first_year_marks.csv\")\n",
    "\n",
    "print record.dtype.names"
   ]
  },
  {
   "cell_type": "code",
   "execution_count": 12,
   "metadata": {},
   "outputs": [
    {
     "data": {
      "image/png": "[encoded data removed]",
      "text/plain": [
       "<matplotlib.figure.Figure at 0x7f5aa19cb150>"
      ]
     },
     "metadata": {},
     "output_type": "display_data"
    }
   ],
   "source": [
    "import matplotlib.pyplot as plt\n",
    "\n",
    "# Now that we have the CSV headers, read records into numpy arrays.\n",
    "fieldmarks = np.array(record[\"field_mark\"],   dtype=float)\n",
    "yearmarks  = np.array(record[\"overall_year\"], dtype=float)\n",
    "\n",
    "# 'bx' means blue 'x' markers\n",
    "# zorder=3 to make sure this is in front of grid\n",
    "plt.plot(fieldmarks, yearmarks, 'bx', markersize=5, markeredgewidth=2, zorder=3)\n",
    "                            \n",
    "# Not labeling a graph is unforgivable.  \n",
    "plt.ylabel(\"Overall Year Mark\",weight='bold')\n",
    "plt.xlabel(\"Mark for Dorset\",weight='bold')\n",
    "\n",
    "# The rest is iceing\n",
    "plt.xlim(0, 100)                 # both scales 0-100\n",
    "plt.ylim(0, 100)\n",
    "\n",
    "# The tick labels are quite long and take up a lof of space. To improve \n",
    "# the readability of our code we can store them as lists named: \n",
    "# xticktitles and yticktitles\n",
    "xticktitles = [\"0%\", \"3rd/Fail\", \"2ii/3rd\", \"2i/2ii\", \"2i/1st\", \"100%\"]\n",
    "yticktitles = [\"3rd/Fail\", \"2ii/3rd\", \"2i/2ii\", \"2i/1st\", \"100%\"]\n",
    "\n",
    "# Ticks and labels to set up by category boundaries\n",
    "plt.xticks([0, 40, 50, 60, 70, 100],xticktitles, rotation=\"vertical\")\n",
    "plt.yticks([40, 50, 60, 70, 100],   yticktitles)\n",
    "\n",
    "# Turn on grid with thin dashed green lines\n",
    "plt.grid(linestyle='--', linewidth=.5, color='green',zorder=1)\n",
    "\n",
    "# Titles\n",
    "plt.title(\"Fieldwork and Year marks 2010-11\",weight='bold')\n",
    "\n",
    "# Show the chart\n",
    "plt.show()"
   ]
  },
  {
   "cell_type": "markdown",
   "metadata": {},
   "source": [
    "This only shows relationship visually, so while it appears from the plot that there is no strong relationship, can we be more quantitative? Are these two variables actually independent?"
   ]
  },
  {
   "cell_type": "markdown",
   "metadata": {},
   "source": [
    "# Linear regression\n",
    "\n",
    "A common approach to bivariate data is to model it mathematically, for example by fitting a line to it (*linear regression*). This is not appropriate if there is only a weak relationship.\n",
    "\n",
    "It is also possible to fix more complex curves but in this course we will restrict outselves to linear regression.\n",
    "\n",
    "Many mathematical methods exist to find the best fitting line. By far most widely used is the *least squares method* which minimises the sum of squares of vertical errors. This can be computed in Python using the method [scipy.stats.linregress](http://docs.scipy.org/doc/scipy/reference/generated/scipy.stats.linregress.html) which returns the slope, $m$, and intercept, $c$ parameters for the equation of the line:\n",
    "\n",
    "$$y = mx + c.$$"
   ]
  },
  {
   "cell_type": "markdown",
   "metadata": {},
   "source": [
    "# Exercise 2.1\n",
    "\n",
    "1. Read in the file [/data/BrachiopodBiometrics.csv](https://raw.githubusercontent.com/alanspencer/IntroductionToStatsForGeoscientists/master/data/BrachiopodBiometrics.csv).\n",
    "2. Create a scatter plot - label the plot approperiately.\n",
    "3. Use linear regression to fit a line to the data.\n",
    "4. Overlay the line on the scatter plot."
   ]
  },
  {
   "cell_type": "code",
   "execution_count": 13,
   "metadata": {},
   "outputs": [],
   "source": [
    "# Solution here"
   ]
  },
  {
   "cell_type": "markdown",
   "metadata": {},
   "source": [
    "# Correlation\n",
    "Plotting a scatter diagram gives a visual feel for how well two variables are related, or correlated. However, correlation can also be defined mathematically in terms of *r-values* - these have values in the range -1 to 1:\n",
    "\n",
    "|r-value|Interpretation|\n",
    "|:------|:--------------|\n",
    "|-1     |Perfect negative correlation|\n",
    "|-0.70  |Strong negative correlation|\n",
    "|-0.50. |Moderate negative correlation|\n",
    "|-0.30. |Weak negative correlation|\n",
    "|0.     |No correlation|\n",
    "|0.30.  |Weak correlation|\n",
    "|0.50.  |Moderate correlation|\n",
    "|0.70.  |Strong correlation|\n",
    "|1.     |Perfect correlation|\n",
    "\n",
    "There are commonly used methods for calculating correlation coefficients:\n",
    "\n",
    "* Pearson product-moment correlation coefficient.\n",
    "* Spearman’s rank correlation coefficient.\n",
    "\n",
    "To explain them and the differences between them we need to cover a few more basic concepts, namely:\n",
    "\n",
    "* Probability.\n",
    "* Normal distributions.\n",
    "* Parametric vs non-parametric statistics."
   ]
  },
  {
   "cell_type": "markdown",
   "metadata": {},
   "source": [
    "# Probability\n",
    "\n",
    "The probability, $p$ of an event occurring is defined as a value in the range $(0, 1)$ where:\n",
    "\n",
    "* $p=0$ implies the event will never occur.\n",
    "* $p=1$ implies the event will always occur.\n",
    "\n",
    "A classic example is dice-throwing. The probability of throwing a 6 in one die throw is $1/6$ $(=0.167)$. The probability of all possible outcomes will sum to 1.\n"
   ]
  },
  {
   "cell_type": "markdown",
   "metadata": {},
   "source": [
    "# Probability and distributions\n",
    "\n",
    "When we try to determine whether two variables are related/correlated we are immediately talking in terms of probability. It is possible that any apparent relationship is by chance. So we try to work out how unlikely this is as a *p-value*.\n",
    "\n",
    "We use histograms of samples to get the underlying probability-distribution diagrams. We use probability-distribution curves by integrating the area under the curve to work out the probability of sampling from a range of values (can’t talk about probability of getting a particular value... why not?) The integral under the whole curve is 1 (why?)\n"
   ]
  },
  {
   "cell_type": "markdown",
   "metadata": {},
   "source": [
    "# Normal distributions\n",
    "\n",
    "Many real-world distributions approximate a ‘bell-shape’. This shape is known as a *Normal* or *Gaussian distribution*. It is very important in statistics and you are going to encounter it many times!\n",
    "\n",
    "Normal distribution defined mathematically as:\n",
    "\n",
    "$$ f(x) = \\frac{1}{\\sqrt{2\\pi\\sigma^2}} e^{-\\frac{(x-\\mu)^2}{2\\sigma^2}}$$\n",
    "\n",
    "where $\\sigma$ is the standard deviation and $\\mu$ is the mean. You don’t need to know the formula by rote but do need to know it only depends on *mean* and *standard deviation*."
   ]
  },
  {
   "cell_type": "code",
   "execution_count": 14,
   "metadata": {},
   "outputs": [
    {
     "data": {
      "image/png": "[encoded data removed]",
      "text/plain": [
       "<matplotlib.figure.Figure at 0x7f5aa19df6d0>"
      ]
     },
     "metadata": {},
     "output_type": "display_data"
    }
   ],
   "source": [
    "x = np.linspace(-4, 4, 100)\n",
    "from scipy import stats\n",
    "from numpy import sqrt, pi, exp\n",
    "for mu, sigma in ((0, 1), (0, 0.7), (1, 1.5)):\n",
    "    y = sqrt(1/(2*pi*sigma**2))*exp(-(x-mu)**2/(2*sigma**2))\n",
    "    plt.plot(x, y)\n",
    "plt.show()"
   ]
  },
  {
   "cell_type": "markdown",
   "metadata": {},
   "source": [
    "Normal distributions are important as a lot of inferential statistical methods assume distributions are normal. However, no real-world distribution is completely normal. Often, people assume deviations from normal are minor - this can be problematic!\n",
    "\n",
    "Consider the histogram of 2000 overall module marks from ESESIS (you will need to use the file [/data/2000marks.csv](https://raw.githubusercontent.com/alanspencer/IntroductionToStatsForGeoscientists/master/data/2000marks.csv)."
   ]
  },
  {
   "cell_type": "code",
   "execution_count": 15,
   "metadata": {},
   "outputs": [
    {
     "data": {
      "image/png": "[encoded data removed]",
      "text/plain": [
       "<matplotlib.figure.Figure at 0x7f5aa18a2bd0>"
      ]
     },
     "metadata": {},
     "output_type": "display_data"
    }
   ],
   "source": [
    "record = np.recfromtxt(\"./data/2000marks.csv\")\n",
    "marks = np.array(record, dtype=float)\n",
    "plt.hist(marks, 20, normed=1)\n",
    "plt.xlabel(\"Student marks\")\n",
    "plt.show()"
   ]
  },
  {
   "cell_type": "markdown",
   "metadata": {},
   "source": [
    "Is this plot normally distributed? Sort of, but notice:\n",
    "\n",
    "* Big peak around 60.\n",
    "* Skewed – long left tail."
   ]
  },
  {
   "cell_type": "markdown",
   "metadata": {},
   "source": [
    "# Back to correlation\n",
    "\n",
    "## Pearson product-moment correlation coefficient.\n",
    "This is the most widely used method to get an r-value for correlation. We will not get into the mathematics involved here but you need to be aware of its main limitation - **assumes distributions being compared are normally distributed**.\n",
    "\n",
    "To further complicate matters, it is unclear how much deviation is allowed...more about this later.\n",
    "\n",
    "You can calculate a probability value for a Pearson r-value using [scipy.stats.pearsonr](http://docs.scipy.org/doc/scipy/reference/generated/scipy.stats.pearsonr.html#scipy.stats.pearsonr).\n",
    "\n",
    "Say we calculated an r-value of 0.3 for two particular samples, and we want to know whether this comes from true correlation, or might have happened by chance. For this we have the p-value. The p-value roughly indicates the probability of an *uncorrelated* system producing datasets that have r-value at least as extreme as the one computed from these datasets. The p-values are not entirely reliable but are probably reasonable for datasets larger than 500 or so.\n"
   ]
  },
  {
   "cell_type": "code",
   "execution_count": 16,
   "metadata": {},
   "outputs": [
    {
     "name": "stdout",
     "output_type": "stream",
     "text": [
      "r-value (correlation coefficient) 1.0\n",
      "p-value (probability that we have got it wrong) 0.0\n"
     ]
    }
   ],
   "source": [
    "# Lets look at a trivial example - lets generate data where x==y.\n",
    "d1 = np.linspace(-1, 1, 1000)\n",
    "d2 = np.linspace(-1, 1, 1000)\n",
    "\n",
    "r, p = stats.pearsonr(d1, d2)\n",
    "\n",
    "print \"r-value (correlation coefficient)\", r\n",
    "print \"p-value (probability that we have got it wrong)\", p"
   ]
  },
  {
   "cell_type": "markdown",
   "metadata": {},
   "source": [
    "## Non-parametric correlation\n",
    "\n",
    "An alternative method for correlation is *Spearman’s rank correlation coefficient*. This is a non-parametric statistic - meaning that it does not rely on underlying data being of any particular distribution.\n",
    "\n",
    "You can calculate Spearman’s rank correlation coefficient using [scipy.stats.spearmanr](http://docs.scipy.org/doc/scipy/reference/generated/scipy.stats.spearmanr.html#scipy.stats.spearmanr)\n",
    "\n",
    "In this case the p-value roughly indicates the probability of an uncorrelated system producing datasets that have a Spearman correlation at least as extreme as the one computed from these datasets. As is the case with the Pearson correlation corfficient, the p-values are not entirely reliable but are probably reasonable for datasets larger than 500 or so.\n",
    "\n",
    "**Ideally use Pearson’s if data is normally distributed.**"
   ]
  },
  {
   "cell_type": "code",
   "execution_count": 17,
   "metadata": {},
   "outputs": [
    {
     "name": "stdout",
     "output_type": "stream",
     "text": [
      "r-value (correlation coefficient) 1.0\n",
      "p-value (probability that we have got it wrong) 0.0\n"
     ]
    }
   ],
   "source": [
    "# Again lets try this with our trivial dataset\n",
    "r, p = stats.spearmanr(d1, d2)\n",
    "\n",
    "print \"r-value (correlation coefficient)\", r\n",
    "print \"p-value (probability that we have got it wrong)\", p"
   ]
  },
  {
   "cell_type": "markdown",
   "metadata": {},
   "source": [
    "# Exercise 2.2\n",
    "\n",
    "For the [/data/first_year_marks.csv](https://raw.githubusercontent.com/alanspencer/IntroductionToStatsForGeoscientists/master/data/first_year_marks.csv) dataset:\n",
    "\n",
    "* Calculate r and p values using both Pearson’s and Spearman’s correlation methodologies.\n",
    "* Are these data correlated at all? If so is the correlation weak or strong?\n",
    "* Plot histograms of each of the two variables, and overlay normal curves to the histograms. How well do they match?"
   ]
  },
  {
   "cell_type": "code",
   "execution_count": 18,
   "metadata": {},
   "outputs": [],
   "source": [
    "# Solution here"
   ]
  },
  {
   "cell_type": "markdown",
   "metadata": {},
   "source": [
    "## Exercise 2.3\n",
    "\n",
    "For this practical you will need the Shock response data for sand. This can be found in the file [/data/sand_swdb.txt](https://github.com/alanspencer/IntroductionToStatsForGeoscientists/master/data/sand_swdb.txt), taken from the shock wave database.\n",
    "\n",
    "## Exercise 2.3.1\n",
    "* Open up the text file and have a look around, see what you're working with.\n",
    "* Read in the file sand_swdb.txt into two arrays called pressure and energy.\n",
    "    * Do NOT use recfromcsv to do this! numpy has other methods too, like genfromtxt, which recfromcsv is based on.\n",
    "* Remember you do not want any 'commented' lines in the text file to be included, how would you do this?\n",
    "\n",
    "## Exercise 2.3.2\n",
    "\n",
    "* Make a scatter plot of pressure against energy.\n",
    "* Label the axes appropriately (include units).\n",
    "* Perform a linear regression on the data, and overlay the best fit line on the plot (as a dashed line).\n",
    "* Add a legend to the plot and label the best fit line with its r-value. e.g. r = 0.5.\n",
    "* Add (or change) the title of your plot to be y = {}x + {} and fill with the fit parameters.\n",
    "\n",
    "## BONUS ROUND (Harder)\n",
    "\n",
    "* Remake your plot, but this time with vertical errorbars of 10% on every point.\n",
    "\n",
    "For this practical you should make extensive use of the matplotlib documentation."
   ]
  },
  {
   "cell_type": "code",
   "execution_count": null,
   "metadata": {},
   "outputs": [],
   "source": []
  }
 ],
 "metadata": {
  "kernelspec": {
   "display_name": "Python 2",
   "language": "python",
   "name": "python2"
  },
  "language_info": {
   "codemirror_mode": {
    "name": "ipython",
    "version": 2
   },
   "file_extension": ".py",
   "mimetype": "text/x-python",
   "name": "python",
   "nbconvert_exporter": "python",
   "pygments_lexer": "ipython2",
   "version": "2.7.14"
  }
 },
 "nbformat": 4,
 "nbformat_minor": 1
}
