{
 "cells": [
  {
   "cell_type": "markdown",
   "metadata": {},
   "source": [
    "# 2.19 Statistics for Geoscientists class test - 14:00-17:00 27th May 2016"
   ]
  },
  {
   "cell_type": "markdown",
   "metadata": {},
   "source": [
    "# Test instructions\n",
    "\n",
    "* This test contains **2** questions each of which should be answered.\n",
    "* Write your program in a Python cell just under each question.\n",
    "* You should write an explanation of your solution as comments in your code.\n",
    "* In each case your solution program must fulfil all of the instructions - please check the instructions carefully and double check that your program fulfils all of the given instructions.\n",
    "* Save your work regularly.\n",
    "* At the end of the test you should email your IPython notebook document (i.e. this document) to [Gerard J. Gorman](http://www.imperial.ac.uk/people/g.gorman) at g.gorman@imperial.ac.uk"
   ]
  },
  {
   "cell_type": "markdown",
   "metadata": {},
   "source": [
    "## Question 1\n",
    "Download **LOLA Lunar Crater Data**, [LolaLargeLunarCraterCatalog.csv](https://raw.githubusercontent.com/ggorman/Introduction-to-stats-for-geoscientists/gh-pages/data/LolaLargeLunarCraterCatalog.csv), and the **MESSENGER and Mariner 10 data**, [MercLargeCraters.csv](https://raw.githubusercontent.com/ggorman/Introduction-to-stats-for-geoscientists/gh-pages/data/MercLargeCraters.csv).\n",
    "*  What is the median crater diameter for each dataset?\n",
    "* Plot histograms for both of these datasets.\n",
    "* Determine if these two samples come from the same distribution. Justify your choice of test. "
   ]
  },
  {
   "cell_type": "code",
   "execution_count": null,
   "metadata": {
    "collapsed": true
   },
   "outputs": [],
   "source": []
  },
  {
   "cell_type": "markdown",
   "metadata": {},
   "source": [
    "## Question 2\n",
    "Pike (1974) found empirical relationships between crater depth and diameter based on 171 small craters less than 15km in diameter. Elachi (1976) also plotted his small crater depths to their diameters, finding that for his small sample of craters less than 30km in diameter, the ratio of the crater depth was also a constant.\n",
    "\n",
    "The file [crater_depth.csv](https://raw.githubusercontent.com/ggorman/Introduction-to-stats-for-geoscientists/gh-pages/data/crater_depth.csv) contains crater diameter and depth data for a sample of small craters.\n",
    "\n",
    "* Create a scatter plot of depth vs diameter. \n",
    "* Use linear regression to fit a line through the data.\n",
    "* What is the significance of the r-value and p-value in this case."
   ]
  },
  {
   "cell_type": "code",
   "execution_count": null,
   "metadata": {
    "collapsed": true
   },
   "outputs": [],
   "source": []
  }
 ],
 "metadata": {
  "kernelspec": {
   "display_name": "Python 2",
   "language": "python",
   "name": "python2"
  },
  "language_info": {
   "codemirror_mode": {
    "name": "ipython",
    "version": 2
   },
   "file_extension": ".py",
   "mimetype": "text/x-python",
   "name": "python",
   "nbconvert_exporter": "python",
   "pygments_lexer": "ipython2",
   "version": "2.7.11"
  }
 },
 "nbformat": 4,
 "nbformat_minor": 0
}
